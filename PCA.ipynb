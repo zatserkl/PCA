{
 "cells": [
  {
   "cell_type": "code",
   "execution_count": 1,
   "metadata": {},
   "outputs": [
    {
     "data": {
      "text/plain": [
       "'C:\\\\Users\\\\320049267'"
      ]
     },
     "execution_count": 1,
     "metadata": {},
     "output_type": "execute_result"
    }
   ],
   "source": [
    "pwd"
   ]
  },
  {
   "cell_type": "code",
   "execution_count": 31,
   "metadata": {},
   "outputs": [
    {
     "data": {
      "text/plain": [
       "'\\nFrom Answer #12 at https://stackoverflow.com/questions/18152052/matlab-eig-returns-inverted-signs-sometimes\\n\\nTo get consistent results, one usually adopts a convention of requiring that the first element \\nin each eigenvector be of a certain sign. That way if you get an eigenvector that does not follow \\nthis rule, you multiply it by -1 to flip the sign...\\n'"
      ]
     },
     "execution_count": 31,
     "metadata": {},
     "output_type": "execute_result"
    },
    {
     "name": "stdout",
     "output_type": "stream",
     "text": [
      "B:\n",
      "[[ 2.   4. ]\n",
      " [ 1.   3. ]\n",
      " [ 0.   1. ]\n",
      " [-1.   0.5]]\n",
      "mean: [0.5   2.125]\n",
      "A:\n",
      "[[ 1.5    1.875]\n",
      " [ 0.5    0.875]\n",
      " [-0.5   -1.125]\n",
      " [-1.5   -1.625]]\n",
      "C:\n",
      "[[5.     6.25  ]\n",
      " [6.25   8.1875]]\n",
      "\n",
      "eigenvalues w:\n",
      "[ 0.14374697 13.04375303]\n",
      "\n",
      "eigenvectors (columns) v:\n",
      "[[-0.78964958 -0.6135581 ]\n",
      " [ 0.6135581  -0.78964958]]\n",
      "\n",
      "eigenvalue 0.14374697189993668: eigenvector is\n",
      "[-0.78964958  0.6135581 ]\n",
      "\n",
      "eigenvalue 13.043753028100065: eigenvector is\n",
      "[-0.6135581  -0.78964958]\n",
      "\n",
      "\n",
      "Check the 1st eigenvalue 0.14374697189993668 and the 1st eigenvector\n",
      "C0:\n",
      "[-0.11350974  0.08819712]\n",
      "C0 / v[0]:\n",
      "[-0.78964958  0.6135581 ]\n",
      "\n",
      "Check the 2nd eigenvalue 13.043753028100065 and the 2nd eigenvector\n",
      "C1:\n",
      "[ -8.00310037 -10.29999405]\n",
      "C1 / v[1]:\n",
      "[-0.6135581  -0.78964958]\n",
      "\n",
      "Sort eigenvalues in increasing order\n",
      "Multiply the eigenvector by -1 if the 1st element is negative\n",
      "Eigenvectors\n",
      "\n",
      "v0\n",
      "[0.6135581  0.78964958]\n",
      "\n",
      "v1\n",
      "[ 0.78964958 -0.6135581 ]\n",
      "\n",
      "Combine eigenvectors\n",
      "\n",
      "Combined vector V\n",
      "[[ 0.6135581   0.78964958]\n",
      " [ 0.78964958 -0.6135581 ]]\n",
      "\n",
      "Project the data on the eigenvector\n",
      "\n",
      "Projected data vector T = A*V is\n",
      "[[ 2.40093011  0.03405292]\n",
      " [ 0.99772243 -0.14203855]\n",
      " [-1.19513483  0.29542808]\n",
      " [-2.20351772 -0.18744245]]\n"
     ]
    },
    {
     "data": {
      "text/plain": [
       "<matplotlib.collections.PathCollection at 0x1b6da5df670>"
      ]
     },
     "execution_count": 31,
     "metadata": {},
     "output_type": "execute_result"
    },
    {
     "data": {
      "image/png": "[encoded data removed]",
      "text/plain": [
       "<Figure size 432x288 with 1 Axes>"
      ]
     },
     "metadata": {
      "needs_background": "light"
     },
     "output_type": "display_data"
    }
   ],
   "source": [
    "import numpy as np\n",
    "import matplotlib.pyplot as plt\n",
    "\n",
    "\"\"\"\n",
    "From Answer #12 at https://stackoverflow.com/questions/18152052/matlab-eig-returns-inverted-signs-sometimes\n",
    "\n",
    "To get consistent results, one usually adopts a convention of requiring that the first element \n",
    "in each eigenvector be of a certain sign. That way if you get an eigenvector that does not follow \n",
    "this rule, you multiply it by -1 to flip the sign...\n",
    "\"\"\"\n",
    "\n",
    "B = np.array([\n",
    "    [2, 4],\n",
    "    [1, 3],\n",
    "    [0, 1],\n",
    "    [-1, 0.5]\n",
    "])\n",
    "print(f\"B:\\n{B}\")\n",
    "\n",
    "mean = np.mean(B, axis=0)\n",
    "print(f\"mean: {mean}\")\n",
    "\n",
    "A = B - mean\n",
    "print(f\"A:\\n{A}\")\n",
    "\n",
    "C = np.matmul(A.T, A)\n",
    "print(f\"C:\\n{C}\\n\")\n",
    "\n",
    "v, w = np.linalg.eig(C)\n",
    "\n",
    "print(f\"eigenvalues w:\\n{v}\\n\")\n",
    "print(f\"eigenvectors (columns) v:\\n{w}\\n\")\n",
    "\n",
    "print(f\"eigenvalue {v[0]}: eigenvector is\\n{w[:, 0]}\\n\")\n",
    "print(f\"eigenvalue {v[1]}: eigenvector is\\n{w[:, 1]}\\n\")\n",
    "\n",
    "print(f\"\\nCheck the 1st eigenvalue {v[0]} and the 1st eigenvector\")\n",
    "C0 = np.matmul(C, w[:, 0])\n",
    "print(f\"C0:\\n{C0}\")\n",
    "print(f\"C0 / v[0]:\\n{C0 / v[0]}\")\n",
    "\n",
    "print(f\"\\nCheck the 2nd eigenvalue {v[1]} and the 2nd eigenvector\")\n",
    "C1 = np.matmul(C, w[:, 1])\n",
    "print(f\"C1:\\n{C1}\")\n",
    "print(f\"C1 / v[1]:\\n{C1 / v[1]}\")\n",
    "\n",
    "print(f\"\\nSort eigenvalues in increasing order\")\n",
    "if v[0] > v[1]:\n",
    "    lambd0 = v[0]\n",
    "    v0 = w[:, 0]\n",
    "    lambd1 = v[1]\n",
    "    v1 = w[:, 1]\n",
    "else:\n",
    "    lambd0 = v[1]\n",
    "    v0 = w[:, 1]\n",
    "    lambd1 = v[0]\n",
    "    v1 = w[:, 0]\n",
    " \n",
    "print(f\"Multiply the eigenvector by -1 if the 1st element is negative\")\n",
    "if v0[0] < 0:\n",
    "    v0 *= -1\n",
    "if v1[0] < 0:\n",
    "    v1 *= -1\n",
    "\n",
    "print(f\"Eigenvectors\\n\")\n",
    "print(f\"v0\\n{v0}\\n\")\n",
    "print(f\"v1\\n{v1}\\n\")\n",
    "\n",
    "print(f\"Combine eigenvectors\")\n",
    "V = np.empty([2, 2])\n",
    "V[:, 0] = v0\n",
    "V[:, 1] = v1\n",
    "\n",
    "print(f\"\\nCombined vector V\\n{V}\\n\")\n",
    "\n",
    "print(f\"Project the data on the eigenvector\\n\")\n",
    "\n",
    "T = np.matmul(A, V)\n",
    "\n",
    "print(f\"Projected data vector T = A*V is\\n{T}\")\n",
    "\n",
    "fig, ax = plt.subplots()\n",
    "ax.scatter(B[:, 0], B[:, 1])\n",
    "ax.grid()\n"
   ]
  },
  {
   "cell_type": "code",
   "execution_count": 45,
   "metadata": {},
   "outputs": [
    {
     "data": {
      "text/plain": [
       "'\\nFrom Answer #12 at https://stackoverflow.com/questions/18152052/matlab-eig-returns-inverted-signs-sometimes\\n\\nTo get consistent results, one usually adopts a convention of requiring that the first element \\nin each eigenvector be of a certain sign. That way if you get an eigenvector that does not follow \\nthis rule, you multiply it by -1 to flip the sign...\\n'"
      ]
     },
     "execution_count": 45,
     "metadata": {},
     "output_type": "execute_result"
    },
    {
     "name": "stdout",
     "output_type": "stream",
     "text": [
      "B:\n",
      "[[ 2.   4. ]\n",
      " [ 1.   3. ]\n",
      " [ 0.   1. ]\n",
      " [-1.   0.5]]\n",
      "mean: [0.5   2.125]\n",
      "A:\n",
      "[[ 1.5    1.875]\n",
      " [ 0.5    0.875]\n",
      " [-0.5   -1.125]\n",
      " [-1.5   -1.625]]\n",
      "C:\n",
      "[[5.     6.25  ]\n",
      " [6.25   8.1875]]\n",
      "\n",
      "eigenvalues v:\n",
      "[ 0.14374697 13.04375303]\n",
      "\n",
      "eigenvectors (columns) w:\n",
      "[[-0.78964958 -0.6135581 ]\n",
      " [ 0.6135581  -0.78964958]]\n",
      "\n",
      "eigenvalue 0.14374697189993668: eigenvector is\n",
      "[-0.78964958  0.6135581 ]\n",
      "\n",
      "eigenvalue 13.043753028100065: eigenvector is\n",
      "[-0.6135581  -0.78964958]\n",
      "\n",
      "\n",
      "Check the 1st eigenvalue 0.14374697189993668 and the 1st eigenvector\n",
      "C0:\n",
      "[-0.11350974  0.08819712]\n",
      "C0 / w[0]:\n",
      "[-0.78964958  0.6135581 ]\n",
      "\n",
      "Check the 2nd eigenvalue 13.043753028100065 and the 2nd eigenvector\n",
      "C1:\n",
      "[ -8.00310037 -10.29999405]\n",
      "C1 / w[1]:\n",
      "[-0.6135581  -0.78964958]\n",
      "\n",
      "Sort eigenvalues in increasing order\n",
      "Multiply the eigenvector by -1 if the 1st element is negative\n",
      "\n",
      "Eigenvectors\n",
      "NB that their components x = -y, so their scalar product = 0 ==> they are ortogonal\n",
      "\n",
      "w0\n",
      "[0.6135581  0.78964958]\n",
      "\n",
      "w1\n",
      "[ 0.78964958 -0.6135581 ]\n",
      "\n",
      "Combine eigenvectors\n",
      "\n",
      "Combined vector V\n",
      "[[ 0.6135581   0.78964958]\n",
      " [ 0.78964958 -0.6135581 ]]\n",
      "\n",
      "Project the data on the eigenvector\n",
      "\n",
      "Projected data vector T = A*V is\n",
      "[[ 2.40093011  0.03405292]\n",
      " [ 0.99772243 -0.14203855]\n",
      " [-1.19513483  0.29542808]\n",
      " [-2.20351772 -0.18744245]]\n"
     ]
    },
    {
     "data": {
      "text/plain": [
       "Text(0.5, 0.98, 'Data vectors y vs x')"
      ]
     },
     "execution_count": 45,
     "metadata": {},
     "output_type": "execute_result"
    },
    {
     "data": {
      "text/plain": [
       "<matplotlib.collections.PathCollection at 0x1b6daa72dc0>"
      ]
     },
     "execution_count": 45,
     "metadata": {},
     "output_type": "execute_result"
    },
    {
     "data": {
      "image/png": "[encoded data removed]",
      "text/plain": [
       "<Figure size 432x288 with 1 Axes>"
      ]
     },
     "metadata": {
      "needs_background": "light"
     },
     "output_type": "display_data"
    }
   ],
   "source": [
    "import numpy as np\n",
    "import matplotlib.pyplot as plt\n",
    "\n",
    "\"\"\"\n",
    "From Answer #12 at https://stackoverflow.com/questions/18152052/matlab-eig-returns-inverted-signs-sometimes\n",
    "\n",
    "To get consistent results, one usually adopts a convention of requiring that the first element \n",
    "in each eigenvector be of a certain sign. That way if you get an eigenvector that does not follow \n",
    "this rule, you multiply it by -1 to flip the sign...\n",
    "\"\"\"\n",
    "\n",
    "B = np.array([\n",
    "    [2, 4],\n",
    "    [1, 3],\n",
    "    [0, 1],\n",
    "    [-1, 0.5]\n",
    "])\n",
    "print(f\"B:\\n{B}\")\n",
    "\n",
    "mean = np.mean(B, axis=0)\n",
    "print(f\"mean: {mean}\")\n",
    "\n",
    "A = B - mean\n",
    "print(f\"A:\\n{A}\")\n",
    "\n",
    "C = np.matmul(A.T, A)\n",
    "print(f\"C:\\n{C}\\n\")\n",
    "\n",
    "w, v = np.linalg.eig(C)\n",
    "\n",
    "print(f\"eigenvalues v:\\n{w}\\n\")\n",
    "print(f\"eigenvectors (columns) w:\\n{v}\\n\")\n",
    "\n",
    "print(f\"eigenvalue {w[0]}: eigenvector is\\n{v[:, 0]}\\n\")\n",
    "print(f\"eigenvalue {w[1]}: eigenvector is\\n{v[:, 1]}\\n\")\n",
    "\n",
    "print(f\"\\nCheck the 1st eigenvalue {w[0]} and the 1st eigenvector\")\n",
    "C0 = np.matmul(C, v[:, 0])\n",
    "print(f\"C0:\\n{C0}\")\n",
    "print(f\"C0 / w[0]:\\n{C0 / w[0]}\")\n",
    "\n",
    "print(f\"\\nCheck the 2nd eigenvalue {w[1]} and the 2nd eigenvector\")\n",
    "C1 = np.matmul(C, v[:, 1])\n",
    "print(f\"C1:\\n{C1}\")\n",
    "print(f\"C1 / w[1]:\\n{C1 / w[1]}\")\n",
    "\n",
    "print(f\"\\nSort eigenvalues in increasing order\")\n",
    "if w[0] > w[1]:\n",
    "    lambd0 = w[0]\n",
    "    w0 = v[:, 0]\n",
    "    lambd1 = w[1]\n",
    "    w1 = v[:, 1]\n",
    "else:\n",
    "    lambd0 = w[1]\n",
    "    w0 = v[:, 1]\n",
    "    lambd1 = w[0]\n",
    "    w1 = v[:, 0]\n",
    " \n",
    "print(f\"Multiply the eigenvector by -1 if the 1st element is negative\")\n",
    "if w0[0] < 0:\n",
    "    w0 *= -1\n",
    "if w1[0] < 0:\n",
    "    w1 *= -1\n",
    "\n",
    "print(f\"\\nEigenvectors\")\n",
    "print(f\"NB that their components x = -y, so their scalar product = 0 ==> they are ortogonal\\n\")\n",
    "print(f\"w0\\n{w0}\\n\")\n",
    "print(f\"w1\\n{w1}\\n\")\n",
    "\n",
    "print(f\"Combine eigenvectors\")\n",
    "V = np.empty([2, 2])\n",
    "V[:, 0] = w0\n",
    "V[:, 1] = w1\n",
    "\n",
    "print(f\"\\nCombined vector V\\n{V}\\n\")\n",
    "\n",
    "print(f\"Project the data on the eigenvector\\n\")\n",
    "\n",
    "T = np.matmul(A, V)\n",
    "\n",
    "print(f\"Projected data vector T = A*V is\\n{T}\")\n",
    "\n",
    "fig, ax = plt.subplots()\n",
    "fig.suptitle(f\"Data vectors y vs x\")\n",
    "ax.scatter(B[:, 0], B[:, 1])\n",
    "ax.set_aspect(\"equal\", adjustable=\"box\")  # set the same scale on x and y\n",
    "#-- ax.axis(\"square\")  # almost the same effect as ax.set_aspect(\"equal\", adjustable=\"box\"): the plot is square\n",
    "#-- ax.axis(\"equal\")  # almost the same effect as ax.set_aspect(\"equal\", adjustable=\"box\"): added extra space in x\n",
    "ax.grid()\n"
   ]
  },
  {
   "cell_type": "code",
   "execution_count": 55,
   "metadata": {},
   "outputs": [
    {
     "data": {
      "text/plain": [
       "'\\nFrom Answer #12 at https://stackoverflow.com/questions/18152052/matlab-eig-returns-inverted-signs-sometimes\\n\\nTo get consistent results, one usually adopts a convention of requiring that the first element \\nin each eigenvector be of a certain sign. That way if you get an eigenvector that does not follow \\nthis rule, you multiply it by -1 to flip the sign...\\n'"
      ]
     },
     "execution_count": 55,
     "metadata": {},
     "output_type": "execute_result"
    },
    {
     "name": "stdout",
     "output_type": "stream",
     "text": [
      "B:\n",
      "[[ 2.   4. ]\n",
      " [ 1.   3. ]\n",
      " [ 0.   1. ]\n",
      " [-1.   0.5]]\n",
      "mean: [0.5   2.125]\n",
      "A:\n",
      "[[ 1.5    1.875]\n",
      " [ 0.5    0.875]\n",
      " [-0.5   -1.125]\n",
      " [-1.5   -1.625]]\n",
      "C:\n",
      "[[5.     6.25  ]\n",
      " [6.25   8.1875]]\n",
      "\n",
      "eigenvalues v:\n",
      "[ 0.14374697 13.04375303]\n",
      "\n",
      "eigenvectors (columns) w:\n",
      "[[-0.78964958 -0.6135581 ]\n",
      " [ 0.6135581  -0.78964958]]\n",
      "\n",
      "eigenvalue 0.14374697189993668: eigenvector is\n",
      "[-0.78964958  0.6135581 ]\n",
      "\n",
      "eigenvalue 13.043753028100065: eigenvector is\n",
      "[-0.6135581  -0.78964958]\n",
      "\n",
      "\n",
      "Check the 1st eigenvalue 0.14374697189993668 and the 1st eigenvector\n",
      "C0:\n",
      "[-0.11350974  0.08819712]\n",
      "C0 / w[0]:\n",
      "[-0.78964958  0.6135581 ]\n",
      "\n",
      "Check the 2nd eigenvalue 13.043753028100065 and the 2nd eigenvector\n",
      "C1:\n",
      "[ -8.00310037 -10.29999405]\n",
      "C1 / w[1]:\n",
      "[-0.6135581  -0.78964958]\n",
      "\n",
      "Sort eigenvalues in increasing order\n",
      "Multiply the eigenvector by -1 if the 1st element is negative\n",
      "\n",
      "Eigenvectors\n",
      "NB that their components x = -y, so their scalar product = 0 ==> they are ortogonal\n",
      "\n",
      "w0\n",
      "[0.6135581  0.78964958]\n",
      "\n",
      "w1\n",
      "[ 0.78964958 -0.6135581 ]\n",
      "\n",
      "Combine eigenvectors\n",
      "\n",
      "Combined vector V\n",
      "[[ 0.6135581   0.78964958]\n",
      " [ 0.78964958 -0.6135581 ]]\n",
      "\n",
      "Project the data on the eigenvector\n",
      "\n",
      "Projected data vector T = A*V is\n",
      "[[ 2.40093011  0.03405292]\n",
      " [ 0.99772243 -0.14203855]\n",
      " [-1.19513483  0.29542808]\n",
      " [-2.20351772 -0.18744245]]\n"
     ]
    },
    {
     "data": {
      "text/plain": [
       "Text(0.5, 0.98, 'Data vectors y vs x')"
      ]
     },
     "execution_count": 55,
     "metadata": {},
     "output_type": "execute_result"
    },
    {
     "data": {
      "text/plain": [
       "<matplotlib.collections.PathCollection at 0x1b6dbe4a820>"
      ]
     },
     "execution_count": 55,
     "metadata": {},
     "output_type": "execute_result"
    },
    {
     "data": {
      "text/plain": [
       "<matplotlib.collections.PathCollection at 0x1b6dbe4a9a0>"
      ]
     },
     "execution_count": 55,
     "metadata": {},
     "output_type": "execute_result"
    },
    {
     "data": {
      "text/plain": [
       "<matplotlib.legend.Legend at 0x1b6dbe4ad60>"
      ]
     },
     "execution_count": 55,
     "metadata": {},
     "output_type": "execute_result"
    },
    {
     "name": "stdout",
     "output_type": "stream",
     "text": [
      "k0: 0.7770004844960104, k1: -1.2870004844960101\n"
     ]
    },
    {
     "data": {
      "text/plain": [
       "[<matplotlib.lines.Line2D at 0x1b6dbe68c10>]"
      ]
     },
     "execution_count": 55,
     "metadata": {},
     "output_type": "execute_result"
    },
    {
     "data": {
      "text/plain": [
       "[<matplotlib.lines.Line2D at 0x1b6dbe68eb0>]"
      ]
     },
     "execution_count": 55,
     "metadata": {},
     "output_type": "execute_result"
    },
    {
     "data": {
      "image/png": "[encoded data removed]",
      "text/plain": [
       "<Figure size 432x288 with 1 Axes>"
      ]
     },
     "metadata": {
      "needs_background": "light"
     },
     "output_type": "display_data"
    }
   ],
   "source": [
    "import numpy as np\n",
    "import matplotlib.pyplot as plt\n",
    "\n",
    "\"\"\"\n",
    "From Answer #12 at https://stackoverflow.com/questions/18152052/matlab-eig-returns-inverted-signs-sometimes\n",
    "\n",
    "To get consistent results, one usually adopts a convention of requiring that the first element \n",
    "in each eigenvector be of a certain sign. That way if you get an eigenvector that does not follow \n",
    "this rule, you multiply it by -1 to flip the sign...\n",
    "\"\"\"\n",
    "\n",
    "B = np.array([\n",
    "    [2, 4],\n",
    "    [1, 3],\n",
    "    [0, 1],\n",
    "    [-1, 0.5]\n",
    "])\n",
    "print(f\"B:\\n{B}\")\n",
    "\n",
    "mean = np.mean(B, axis=0)\n",
    "print(f\"mean: {mean}\")\n",
    "\n",
    "A = B - mean\n",
    "print(f\"A:\\n{A}\")\n",
    "\n",
    "C = np.matmul(A.T, A)\n",
    "print(f\"C:\\n{C}\\n\")\n",
    "\n",
    "w, v = np.linalg.eig(C)\n",
    "\n",
    "print(f\"eigenvalues v:\\n{w}\\n\")\n",
    "print(f\"eigenvectors (columns) w:\\n{v}\\n\")\n",
    "\n",
    "print(f\"eigenvalue {w[0]}: eigenvector is\\n{v[:, 0]}\\n\")\n",
    "print(f\"eigenvalue {w[1]}: eigenvector is\\n{v[:, 1]}\\n\")\n",
    "\n",
    "print(f\"\\nCheck the 1st eigenvalue {w[0]} and the 1st eigenvector\")\n",
    "C0 = np.matmul(C, v[:, 0])\n",
    "print(f\"C0:\\n{C0}\")\n",
    "print(f\"C0 / w[0]:\\n{C0 / w[0]}\")\n",
    "\n",
    "print(f\"\\nCheck the 2nd eigenvalue {w[1]} and the 2nd eigenvector\")\n",
    "C1 = np.matmul(C, v[:, 1])\n",
    "print(f\"C1:\\n{C1}\")\n",
    "print(f\"C1 / w[1]:\\n{C1 / w[1]}\")\n",
    "\n",
    "print(f\"\\nSort eigenvalues in increasing order\")\n",
    "if w[0] > w[1]:\n",
    "    lambd0 = w[0]\n",
    "    w0 = v[:, 0]\n",
    "    lambd1 = w[1]\n",
    "    w1 = v[:, 1]\n",
    "else:\n",
    "    lambd0 = w[1]\n",
    "    w0 = v[:, 1]\n",
    "    lambd1 = w[0]\n",
    "    w1 = v[:, 0]\n",
    " \n",
    "print(f\"Multiply the eigenvector by -1 if the 1st element is negative\")\n",
    "if w0[0] < 0:\n",
    "    w0 *= -1\n",
    "if w1[0] < 0:\n",
    "    w1 *= -1\n",
    "\n",
    "print(f\"\\nEigenvectors\")\n",
    "print(f\"NB that their components x = -y, so their scalar product = 0 ==> they are ortogonal\\n\")\n",
    "print(f\"w0\\n{w0}\\n\")\n",
    "print(f\"w1\\n{w1}\\n\")\n",
    "\n",
    "print(f\"Combine eigenvectors\")\n",
    "V = np.empty([2, 2])\n",
    "V[:, 0] = w0\n",
    "V[:, 1] = w1\n",
    "\n",
    "print(f\"\\nCombined vector V\\n{V}\\n\")\n",
    "\n",
    "print(f\"Project the data on the eigenvector\\n\")\n",
    "\n",
    "T = np.matmul(A, V)\n",
    "\n",
    "print(f\"Projected data vector T = A*V is\\n{T}\")\n",
    "\n",
    "fig, ax = plt.subplots()\n",
    "fig.suptitle(f\"Data vectors y vs x\")\n",
    "ax.scatter(B[:, 0], B[:, 1], label=\"original data\")\n",
    "ax.scatter(A[:, 0], A[:, 1], label=\"centered data\")\n",
    "ax.set_aspect(\"equal\", adjustable=\"box\")  # set the same scale on x and y\n",
    "#-- ax.axis(\"square\")  # almost the same effect as ax.set_aspect(\"equal\", adjustable=\"box\"): the plot is square\n",
    "#-- ax.axis(\"equal\")  # almost the same effect as ax.set_aspect(\"equal\", adjustable=\"box\"): added extra space in x\n",
    "ax.grid()\n",
    "ax.legend()\n",
    "\n",
    "# draw the axes through the eigenvectors\n",
    "\n",
    "k0 = w0[0] / w0[1]\n",
    "k1 = w1[0] / w1[1]\n",
    "\n",
    "print(f\"k0: {k0}, k1: {k1}\")\n",
    "\n",
    "ymin, ymax = ax.get_ylim()\n",
    "\n",
    "xmin0 = ymin / k0\n",
    "xmax0 = ymax / k0\n",
    "# if xmin0 > xmax0:\n",
    "#     xmin0, xmax0 = xmax0, xmin0\n",
    "\n",
    "xmin1 = ymin / k1\n",
    "xmax1 = ymax / k1\n",
    "# if xmin1 > xmax1:\n",
    "#     xmin1, xmax1 = xmax1, xmin1\n",
    "\n",
    "ax.plot([xmin0, xmax0], [k0 * xmin0, k0 * xmax0])\n",
    "ax.plot([xmin1, xmax1], [k1 * xmin1, k1 * xmax1])"
   ]
  }
 ],
 "metadata": {
  "kernelspec": {
   "display_name": "Python 3",
   "language": "python",
   "name": "python3"
  },
  "language_info": {
   "codemirror_mode": {
    "name": "ipython",
    "version": 3
   },
   "file_extension": ".py",
   "mimetype": "text/x-python",
   "name": "python",
   "nbconvert_exporter": "python",
   "pygments_lexer": "ipython3",
   "version": "3.9.7"
  }
 },
 "nbformat": 4,
 "nbformat_minor": 4
}
